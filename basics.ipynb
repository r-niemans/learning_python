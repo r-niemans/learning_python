{
 "cells": [
  {
   "cell_type": "markdown",
   "metadata": {},
   "source": [
    "In dit bestand zijn opdrachten te vinden in combinatie met uitleg "
   ]
  },
  {
   "cell_type": "markdown",
   "metadata": {},
   "source": [
    "## List comprehension en generators\n",
    "Uitgangspunt van deze is dat de generator veel minder ruimte in beslag neemt over tijd, omdat het per element de generator benadert terwijl bij list comprehension er steeds opnieuw één hele lijst gecreëerd wordt. "
   ]
  },
  {
   "cell_type": "code",
   "execution_count": 1,
   "metadata": {},
   "outputs": [
    {
     "name": "stdout",
     "output_type": "stream",
     "text": [
      "List Comprehension:\n",
      "[0, 1, 4, 9, 16, 25, 36, 49, 64, 81]\n",
      "Memory used by list comprehension: 184 bytes\n",
      "\n",
      "Generator Expression:\n",
      "<generator object <genexpr> at 0x7c4be821d560>\n",
      "Memory used by generator expression: 200 bytes\n",
      "\n",
      "Accessing elements in the generator:\n",
      "0\n",
      "1\n",
      "4\n",
      "9\n",
      "16\n",
      "25\n",
      "36\n",
      "49\n",
      "64\n",
      "81\n"
     ]
    }
   ],
   "source": [
    "import sys\n",
    "\n",
    "# Using a list comprehension\n",
    "list_comp = [x**2 for x in range(10)]  # Creates a complete list in memory\n",
    "print(\"List Comprehension:\")\n",
    "print(list_comp)  # Outputs all elements at once\n",
    "print(f\"Memory used by list comprehension: {sys.getsizeof(list_comp)} bytes\\n\")\n",
    "\n",
    "# Using a generator expression\n",
    "gen_exp = (x**2 for x in range(10))  # Creates a generator object\n",
    "print(\"Generator Expression:\")\n",
    "print(gen_exp)  # Outputs a generator object, not the values\n",
    "print(f\"Memory used by generator expression: {sys.getsizeof(gen_exp)} bytes\\n\")\n",
    "\n",
    "# Accessing elements in the generator\n",
    "print(\"Accessing elements in the generator:\")\n",
    "for value in gen_exp:\n",
    "    print(value)  # Outputs one element at a time\n"
   ]
  },
  {
   "cell_type": "markdown",
   "metadata": {},
   "source": [
    "dit is eigenlijk ook meteen een voorbeeld van het uitgangspunt van programmeren: besparen, of het nu tijd is of ruimte in je geheugen. "
   ]
  },
  {
   "cell_type": "markdown",
   "metadata": {},
   "source": []
  },
  {
   "cell_type": "code",
   "execution_count": null,
   "metadata": {},
   "outputs": [],
   "source": []
  },
  {
   "cell_type": "code",
   "execution_count": null,
   "metadata": {},
   "outputs": [],
   "source": [
    "# materiaal "
   ]
  }
 ],
 "metadata": {
  "kernelspec": {
   "display_name": "Python 3",
   "language": "python",
   "name": "python3"
  },
  "language_info": {
   "codemirror_mode": {
    "name": "ipython",
    "version": 3
   },
   "file_extension": ".py",
   "mimetype": "text/x-python",
   "name": "python",
   "nbconvert_exporter": "python",
   "pygments_lexer": "ipython3",
   "version": "3.12.1"
  }
 },
 "nbformat": 4,
 "nbformat_minor": 2
}
